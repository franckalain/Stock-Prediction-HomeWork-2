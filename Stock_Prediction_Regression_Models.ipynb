{
 "cells": [
  {
   "cell_type": "code",
   "execution_count": 11,
   "metadata": {
    "colab": {},
    "colab_type": "code",
    "id": "kr-2mSHypDq0"
   },
   "outputs": [
    {
     "name": "stdout",
     "output_type": "stream",
     "text": [
      "Collecting pandas-datareader\n",
      "\u001b[?25l  Downloading https://files.pythonhosted.org/packages/d1/db/c6c72242179251ed9ead7af852296ae9558b1d0cfd972eef6c3398b131d1/pandas_datareader-0.7.4-py2.py3-none-any.whl (113kB)\n",
      "\u001b[K     |████████████████████████████████| 122kB 332kB/s eta 0:00:01\n",
      "\u001b[?25hRequirement already satisfied: lxml in /Users/franck/anaconda3/lib/python3.6/site-packages (from pandas-datareader) (4.2.1)\n",
      "Requirement already satisfied: wrapt in /Users/franck/anaconda3/lib/python3.6/site-packages (from pandas-datareader) (1.10.11)\n",
      "Requirement already satisfied: requests>=2.3.0 in /Users/franck/anaconda3/lib/python3.6/site-packages (from pandas-datareader) (2.18.4)\n",
      "Requirement already satisfied: pandas>=0.19.2 in /Users/franck/anaconda3/lib/python3.6/site-packages (from pandas-datareader) (0.23.0)\n",
      "Requirement already satisfied: chardet<3.1.0,>=3.0.2 in /Users/franck/anaconda3/lib/python3.6/site-packages (from requests>=2.3.0->pandas-datareader) (3.0.4)\n",
      "Requirement already satisfied: idna<2.7,>=2.5 in /Users/franck/anaconda3/lib/python3.6/site-packages (from requests>=2.3.0->pandas-datareader) (2.6)\n",
      "Requirement already satisfied: urllib3<1.23,>=1.21.1 in /Users/franck/anaconda3/lib/python3.6/site-packages (from requests>=2.3.0->pandas-datareader) (1.22)\n",
      "Requirement already satisfied: certifi>=2017.4.17 in /Users/franck/anaconda3/lib/python3.6/site-packages (from requests>=2.3.0->pandas-datareader) (2019.6.16)\n",
      "Requirement already satisfied: python-dateutil>=2.5.0 in /Users/franck/anaconda3/lib/python3.6/site-packages (from pandas>=0.19.2->pandas-datareader) (2.7.3)\n",
      "Requirement already satisfied: pytz>=2011k in /Users/franck/anaconda3/lib/python3.6/site-packages (from pandas>=0.19.2->pandas-datareader) (2018.4)\n",
      "Requirement already satisfied: numpy>=1.9.0 in /Users/franck/anaconda3/lib/python3.6/site-packages (from pandas>=0.19.2->pandas-datareader) (1.16.4)\n",
      "Requirement already satisfied: six>=1.5 in /Users/franck/anaconda3/lib/python3.6/site-packages (from python-dateutil>=2.5.0->pandas>=0.19.2->pandas-datareader) (1.11.0)\n",
      "Installing collected packages: pandas-datareader\n",
      "Successfully installed pandas-datareader-0.7.4\n",
      "\u001b[33mWARNING: You are using pip version 19.2.2, however version 19.2.3 is available.\n",
      "You should consider upgrading via the 'pip install --upgrade pip' command.\u001b[0m\n"
     ]
    }
   ],
   "source": [
    "!pip install pandas-datareader"
   ]
  },
  {
   "cell_type": "code",
   "execution_count": 12,
   "metadata": {},
   "outputs": [],
   "source": [
    "# Import Librairies\n",
    "\n",
    "import pandas as pd\n",
    "import datetime\n",
    "\n",
    "import pandas_datareader.data as web\n",
    "from pandas import Series, DataFrame"
   ]
  },
  {
   "cell_type": "code",
   "execution_count": 13,
   "metadata": {
    "colab": {},
    "colab_type": "code",
    "id": "h2JHdPR0tgrs"
   },
   "outputs": [],
   "source": [
    "# Create a start and end date\n",
    "\n",
    "start = datetime.datetime(2010, 1, 1)\n",
    "\n",
    "end = datetime.datetime.now()"
   ]
  },
  {
   "cell_type": "markdown",
   "metadata": {},
   "source": [
    "### Loading Yahoo Finance Dataset"
   ]
  },
  {
   "cell_type": "code",
   "execution_count": 15,
   "metadata": {
    "colab": {
     "base_uri": "https://localhost:8080/",
     "height": 235
    },
    "colab_type": "code",
    "id": "brkGEtLGuaiX",
    "outputId": "41b926c9-157b-42e7-a9d2-1827ae0e5f1d"
   },
   "outputs": [
    {
     "data": {
      "text/html": [
       "<div>\n",
       "<style scoped>\n",
       "    .dataframe tbody tr th:only-of-type {\n",
       "        vertical-align: middle;\n",
       "    }\n",
       "\n",
       "    .dataframe tbody tr th {\n",
       "        vertical-align: top;\n",
       "    }\n",
       "\n",
       "    .dataframe thead th {\n",
       "        text-align: right;\n",
       "    }\n",
       "</style>\n",
       "<table border=\"1\" class=\"dataframe\">\n",
       "  <thead>\n",
       "    <tr style=\"text-align: right;\">\n",
       "      <th></th>\n",
       "      <th>High</th>\n",
       "      <th>Low</th>\n",
       "      <th>Open</th>\n",
       "      <th>Close</th>\n",
       "      <th>Volume</th>\n",
       "      <th>Adj Close</th>\n",
       "    </tr>\n",
       "    <tr>\n",
       "      <th>Date</th>\n",
       "      <th></th>\n",
       "      <th></th>\n",
       "      <th></th>\n",
       "      <th></th>\n",
       "      <th></th>\n",
       "      <th></th>\n",
       "    </tr>\n",
       "  </thead>\n",
       "  <tbody>\n",
       "    <tr>\n",
       "      <th>2010-01-04</th>\n",
       "      <td>30.642857</td>\n",
       "      <td>30.340000</td>\n",
       "      <td>30.490000</td>\n",
       "      <td>30.572857</td>\n",
       "      <td>123432400.0</td>\n",
       "      <td>26.681330</td>\n",
       "    </tr>\n",
       "    <tr>\n",
       "      <th>2010-01-05</th>\n",
       "      <td>30.798571</td>\n",
       "      <td>30.464285</td>\n",
       "      <td>30.657143</td>\n",
       "      <td>30.625713</td>\n",
       "      <td>150476200.0</td>\n",
       "      <td>26.727465</td>\n",
       "    </tr>\n",
       "    <tr>\n",
       "      <th>2010-01-06</th>\n",
       "      <td>30.747143</td>\n",
       "      <td>30.107143</td>\n",
       "      <td>30.625713</td>\n",
       "      <td>30.138571</td>\n",
       "      <td>138040000.0</td>\n",
       "      <td>26.302330</td>\n",
       "    </tr>\n",
       "    <tr>\n",
       "      <th>2010-01-07</th>\n",
       "      <td>30.285715</td>\n",
       "      <td>29.864286</td>\n",
       "      <td>30.250000</td>\n",
       "      <td>30.082857</td>\n",
       "      <td>119282800.0</td>\n",
       "      <td>26.253704</td>\n",
       "    </tr>\n",
       "    <tr>\n",
       "      <th>2010-01-08</th>\n",
       "      <td>30.285715</td>\n",
       "      <td>29.865715</td>\n",
       "      <td>30.042856</td>\n",
       "      <td>30.282858</td>\n",
       "      <td>111902700.0</td>\n",
       "      <td>26.428249</td>\n",
       "    </tr>\n",
       "  </tbody>\n",
       "</table>\n",
       "</div>"
      ],
      "text/plain": [
       "                 High        Low       Open      Close       Volume  Adj Close\n",
       "Date                                                                          \n",
       "2010-01-04  30.642857  30.340000  30.490000  30.572857  123432400.0  26.681330\n",
       "2010-01-05  30.798571  30.464285  30.657143  30.625713  150476200.0  26.727465\n",
       "2010-01-06  30.747143  30.107143  30.625713  30.138571  138040000.0  26.302330\n",
       "2010-01-07  30.285715  29.864286  30.250000  30.082857  119282800.0  26.253704\n",
       "2010-01-08  30.285715  29.865715  30.042856  30.282858  111902700.0  26.428249"
      ]
     },
     "execution_count": 15,
     "metadata": {},
     "output_type": "execute_result"
    }
   ],
   "source": [
    "# Create a DataFrame\n",
    "\n",
    "data = web.DataReader('AAPL', 'yahoo', start, end)\n",
    "data.head()"
   ]
  },
  {
   "cell_type": "markdown",
   "metadata": {
    "colab_type": "text",
    "id": "z-umREzcw6Sd"
   },
   "source": [
    "### Exploring the Data"
   ]
  },
  {
   "cell_type": "code",
   "execution_count": 16,
   "metadata": {
    "colab": {},
    "colab_type": "code",
    "id": "6suWkbP4peLl"
   },
   "outputs": [],
   "source": [
    "# Get the closing price\n",
    "\n",
    "close_px = data['Adj Close']\n",
    "\n",
    "# Rolling the closing price\n",
    "\n",
    "mavg = close_px.rolling(window = 100).mean()"
   ]
  },
  {
   "cell_type": "code",
   "execution_count": 19,
   "metadata": {
    "colab": {
     "base_uri": "https://localhost:8080/",
     "height": 446
    },
    "colab_type": "code",
    "id": "fMSIL5UuzP6G",
    "outputId": "d0d41feb-33c4-4712-b67b-f82699868441"
   },
   "outputs": [
    {
     "data": {
      "text/plain": [
       "<matplotlib.legend.Legend at 0x1098c6e80>"
      ]
     },
     "execution_count": 19,
     "metadata": {},
     "output_type": "execute_result"
    },
    {
     "data": {
      "image/png": "[encoded data removed]",
      "text/plain": [
       "<Figure size 576x504 with 1 Axes>"
      ]
     },
     "metadata": {},
     "output_type": "display_data"
    }
   ],
   "source": [
    "# Importing Matplotlib\n",
    "\n",
    "%matplotlib inline\n",
    "\n",
    "import matplotlib.pyplot as plt\n",
    "import matplotlib as mpl\n",
    "from matplotlib import style\n",
    "\n",
    "# Adjusting the size of Matplotlib\n",
    "mpl.rc('figure', figsize = (8,7))\n",
    "\n",
    "# Adjusting the style of Matplotlib\n",
    "style.use('fivethirtyeight')\n",
    "\n",
    "# Plotting using Matplotlib\n",
    "close_px.plot(label = 'AAPL')\n",
    "mavg.plot(label = 'mavg')\n",
    "plt.legend()"
   ]
  },
  {
   "cell_type": "code",
   "execution_count": 20,
   "metadata": {
    "colab": {},
    "colab_type": "code",
    "id": "C3Tq7JWA1Vv5"
   },
   "outputs": [],
   "source": [
    "# Getting return as close_px / close_px.shift(1) - 1\n",
    "\n",
    "# returndev = close_px / close_px.shift(1) -1\n",
    "\n",
    "rets = close_px.pct_change()"
   ]
  },
  {
   "cell_type": "code",
   "execution_count": 21,
   "metadata": {
    "colab": {
     "base_uri": "https://localhost:8080/",
     "height": 446
    },
    "colab_type": "code",
    "id": "Mf9l_2jJ2Eq0",
    "outputId": "8cfdb21b-f498-4ab9-bcb6-9c665026da73"
   },
   "outputs": [
    {
     "data": {
      "text/plain": [
       "<matplotlib.axes._subplots.AxesSubplot at 0x123cd9e80>"
      ]
     },
     "execution_count": 21,
     "metadata": {},
     "output_type": "execute_result"
    },
    {
     "data": {
      "image/png": "[encoded data removed]",
      "text/plain": [
       "<Figure size 576x504 with 1 Axes>"
      ]
     },
     "metadata": {},
     "output_type": "display_data"
    }
   ],
   "source": [
    "# Plot and label it as return\n",
    "\n",
    "rets.plot(label = 'return')"
   ]
  },
  {
   "cell_type": "markdown",
   "metadata": {
    "colab_type": "text",
    "id": "viCCVpUL4Edf"
   },
   "source": [
    "### Predicting Stocks Price"
   ]
  },
  {
   "cell_type": "code",
   "execution_count": 22,
   "metadata": {
    "colab": {},
    "colab_type": "code",
    "id": "fRGy8vBR2pNx"
   },
   "outputs": [],
   "source": [
    "dfreg = data.loc[:,['Adj Close','Volume']]\n",
    "dfreg['HL_PCT'] = (data['High'] - data['Low']) / data['Close'] * 100.0\n",
    "dfreg['PCT_change'] = (data['Close'] - data['Open']) / data['Open'] * 100.0"
   ]
  },
  {
   "cell_type": "code",
   "execution_count": 47,
   "metadata": {
    "colab": {
     "base_uri": "https://localhost:8080/",
     "height": 235
    },
    "colab_type": "code",
    "id": "YRprljFe4NiN",
    "outputId": "8e1b63b3-3e69-4c9a-eec9-9aee97ca74be"
   },
   "outputs": [
    {
     "data": {
      "text/html": [
       "<div>\n",
       "<style scoped>\n",
       "    .dataframe tbody tr th:only-of-type {\n",
       "        vertical-align: middle;\n",
       "    }\n",
       "\n",
       "    .dataframe tbody tr th {\n",
       "        vertical-align: top;\n",
       "    }\n",
       "\n",
       "    .dataframe thead th {\n",
       "        text-align: right;\n",
       "    }\n",
       "</style>\n",
       "<table border=\"1\" class=\"dataframe\">\n",
       "  <thead>\n",
       "    <tr style=\"text-align: right;\">\n",
       "      <th></th>\n",
       "      <th>Adj Close</th>\n",
       "      <th>Volume</th>\n",
       "      <th>HL_PCT</th>\n",
       "      <th>PCT_change</th>\n",
       "    </tr>\n",
       "    <tr>\n",
       "      <th>Date</th>\n",
       "      <th></th>\n",
       "      <th></th>\n",
       "      <th></th>\n",
       "      <th></th>\n",
       "    </tr>\n",
       "  </thead>\n",
       "  <tbody>\n",
       "    <tr>\n",
       "      <th>2010-01-04</th>\n",
       "      <td>26.681330</td>\n",
       "      <td>123432400.0</td>\n",
       "      <td>0.990606</td>\n",
       "      <td>0.271752</td>\n",
       "    </tr>\n",
       "    <tr>\n",
       "      <th>2010-01-05</th>\n",
       "      <td>26.727465</td>\n",
       "      <td>150476200.0</td>\n",
       "      <td>1.091520</td>\n",
       "      <td>-0.102519</td>\n",
       "    </tr>\n",
       "    <tr>\n",
       "      <th>2010-01-06</th>\n",
       "      <td>26.302330</td>\n",
       "      <td>138040000.0</td>\n",
       "      <td>2.123523</td>\n",
       "      <td>-1.590633</td>\n",
       "    </tr>\n",
       "    <tr>\n",
       "      <th>2010-01-07</th>\n",
       "      <td>26.253704</td>\n",
       "      <td>119282800.0</td>\n",
       "      <td>1.400893</td>\n",
       "      <td>-0.552538</td>\n",
       "    </tr>\n",
       "    <tr>\n",
       "      <th>2010-01-08</th>\n",
       "      <td>26.428249</td>\n",
       "      <td>111902700.0</td>\n",
       "      <td>1.386924</td>\n",
       "      <td>0.798864</td>\n",
       "    </tr>\n",
       "  </tbody>\n",
       "</table>\n",
       "</div>"
      ],
      "text/plain": [
       "            Adj Close       Volume    HL_PCT  PCT_change\n",
       "Date                                                    \n",
       "2010-01-04  26.681330  123432400.0  0.990606    0.271752\n",
       "2010-01-05  26.727465  150476200.0  1.091520   -0.102519\n",
       "2010-01-06  26.302330  138040000.0  2.123523   -1.590633\n",
       "2010-01-07  26.253704  119282800.0  1.400893   -0.552538\n",
       "2010-01-08  26.428249  111902700.0  1.386924    0.798864"
      ]
     },
     "execution_count": 47,
     "metadata": {
      "tags": []
     },
     "output_type": "execute_result"
    }
   ],
   "source": [
    "dfreg.head()"
   ]
  },
  {
   "cell_type": "markdown",
   "metadata": {
    "colab_type": "text",
    "id": "zG2e3G6d48t2"
   },
   "source": [
    "### Pre-processing & Cross Validation"
   ]
  },
  {
   "cell_type": "code",
   "execution_count": 23,
   "metadata": {
    "colab": {
     "base_uri": "https://localhost:8080/",
     "height": 51
    },
    "colab_type": "code",
    "id": "XOXLvLZ940uG",
    "outputId": "ec6b446f-bc00-44de-97fa-af47e0c6209c"
   },
   "outputs": [
    {
     "name": "stdout",
     "output_type": "stream",
     "text": [
      "Dimension of X (2408, 4)\n",
      "Dimension of y (2408,)\n"
     ]
    }
   ],
   "source": [
    "import math\n",
    "import numpy as np\n",
    "from sklearn import preprocessing, svm\n",
    "from sklearn.model_selection import train_test_split\n",
    "# Drop missing value\n",
    "dfreg.fillna(value=-99999, inplace=True)\n",
    "# We want to separate 1 percent of the data to forecast\n",
    "forecast_out = int(math.ceil(0.01 * len(dfreg)))\n",
    "# Separating the label here, we want to predict the AdjClose\n",
    "forecast_col = 'Adj Close'\n",
    "dfreg['label'] = dfreg[forecast_col].shift(-forecast_out)\n",
    "X = np.array(dfreg.drop(['label'], 1))\n",
    "# Scale the X so that everyone can have the same distribution for linear regression\n",
    "X = preprocessing.scale(X)\n",
    "# Finally We want to find Data Series of late X and early X (train) for model generation and evaluation\n",
    "X_lately = X[-forecast_out:]\n",
    "X = X[:-forecast_out]\n",
    "# Separate label and identify it as y\n",
    "y = np.array(dfreg['label'])\n",
    "y = y[:-forecast_out]\n",
    "\n",
    "print('Dimension of X', X.shape)\n",
    "print('Dimension of y', y.shape)"
   ]
  },
  {
   "cell_type": "code",
   "execution_count": 24,
   "metadata": {
    "colab": {},
    "colab_type": "code",
    "id": "zwQYYdCjOjBZ"
   },
   "outputs": [],
   "source": [
    "# Separation of training and testing of model by cross validation train test split\n",
    "\n",
    "X_train, X_test, y_train, y_test = train_test_split(X, y, test_size = 0.2, random_state=0)"
   ]
  },
  {
   "cell_type": "markdown",
   "metadata": {
    "colab_type": "text",
    "id": "Wcteqm4eMvrI"
   },
   "source": [
    "### Buil the Model"
   ]
  },
  {
   "cell_type": "code",
   "execution_count": 25,
   "metadata": {
    "colab": {},
    "colab_type": "code",
    "id": "kJYOdsEI5DVR"
   },
   "outputs": [],
   "source": [
    "from sklearn.linear_model import LinearRegression\n",
    "from sklearn.neighbors import KNeighborsRegressor\n",
    "\n",
    "from sklearn.linear_model import Ridge\n",
    "from sklearn.preprocessing import PolynomialFeatures\n",
    "from sklearn.pipeline import make_pipeline"
   ]
  },
  {
   "cell_type": "code",
   "execution_count": 0,
   "metadata": {
    "colab": {},
    "colab_type": "code",
    "id": "ukTAF4w8MzHM"
   },
   "outputs": [],
   "source": []
  },
  {
   "cell_type": "markdown",
   "metadata": {
    "colab_type": "text",
    "id": "UfD-1JOgM1bH"
   },
   "source": [
    "### Simple Linear Analysis & Quadratic Discriminant Analysis"
   ]
  },
  {
   "cell_type": "code",
   "execution_count": 39,
   "metadata": {
    "colab": {
     "base_uri": "https://localhost:8080/",
     "height": 68
    },
    "colab_type": "code",
    "id": "0T-V3vSMM2-a",
    "outputId": "c24fcf02-88cd-4375-80bd-375e3bf29f04"
   },
   "outputs": [
    {
     "data": {
      "text/plain": [
       "KNeighborsRegressor(algorithm='auto', leaf_size=30, metric='minkowski',\n",
       "          metric_params=None, n_jobs=1, n_neighbors=2, p=2,\n",
       "          weights='uniform')"
      ]
     },
     "execution_count": 39,
     "metadata": {},
     "output_type": "execute_result"
    }
   ],
   "source": [
    "# Linear regression\n",
    "clfreg = LinearRegression(n_jobs=-1)\n",
    "clfreg.fit(X_train, y_train)\n",
    "\n",
    "# Quadratic Regression\n",
    "clfpoly = make_pipeline(PolynomialFeatures(3), Ridge())\n",
    "clfpoly.fit(X_train, y_train)\n",
    "\n",
    "# KNN Regression\n",
    "clfknn = KNeighborsRegressor(n_neighbors = 2)\n",
    "clfknn.fit(X_train, y_train)"
   ]
  },
  {
   "cell_type": "markdown",
   "metadata": {
    "colab_type": "text",
    "id": "5UVUy7VMO75p"
   },
   "source": [
    "### Test the Model"
   ]
  },
  {
   "cell_type": "code",
   "execution_count": 38,
   "metadata": {
    "colab": {
     "base_uri": "https://localhost:8080/",
     "height": 85
    },
    "colab_type": "code",
    "id": "A9jcWzt8M58-",
    "outputId": "c9eea989-acee-4f18-fe62-d88a1cbe071f"
   },
   "outputs": [
    {
     "name": "stdout",
     "output_type": "stream",
     "text": [
      "The regression confidence is 0.9680712201392753\n",
      "The quadratic regresssion confidence is 0.9709260091859708\n",
      "The knn regresssion confidence is 0.9463967798778082\n"
     ]
    }
   ],
   "source": [
    "# Assess the Model using confidence\n",
    "\n",
    "confreg = clfreg.score(X_test, y_test)\n",
    "confpoly = clfpoly.score(X_test, y_test)\n",
    "confknn = clfknn.score(X_test, y_test)\n",
    "\n",
    "\n",
    "print('The regression confidence is', confreg)\n",
    "print('The quadratic regresssion confidence is', confpoly)\n",
    "print('The knn regresssion confidence is', confknn)"
   ]
  },
  {
   "cell_type": "markdown",
   "metadata": {},
   "source": [
    "# The quadratic regresssion has the best perfomence"
   ]
  },
  {
   "cell_type": "code",
   "execution_count": null,
   "metadata": {},
   "outputs": [],
   "source": []
  },
  {
   "cell_type": "code",
   "execution_count": 29,
   "metadata": {
    "colab": {
     "base_uri": "https://localhost:8080/",
     "height": 102
    },
    "colab_type": "code",
    "id": "Ws1dhIxmPWdG",
    "outputId": "42e40cb4-e127-414c-9fd6-baa5a455f351"
   },
   "outputs": [
    {
     "name": "stdout",
     "output_type": "stream",
     "text": [
      "[207.40382843 210.66547226 206.84011892 202.69817902 192.09808733\n",
      " 196.10357918 198.28452003 202.6155673  201.01813655 200.57498931\n",
      " 208.49188782 202.31975924 201.76548874 206.23679079 210.00329007\n",
      " 209.94440755 212.27294355 212.1703104  202.2587895  206.19529103\n",
      " 204.10063857 205.64735908 208.83486712 208.58995671 205.67277411]\n"
     ]
    }
   ],
   "source": [
    "# printing the forecast\n",
    "\n",
    "forecast_set = clfreg.predict(X_lately)\n",
    "\n",
    "# Create an empty column for the forecast result\n",
    "\n",
    "print(forecast_set)\n",
    "dfreg['Forecast'] = np.nan"
   ]
  },
  {
   "cell_type": "code",
   "execution_count": 30,
   "metadata": {
    "colab": {},
    "colab_type": "code",
    "id": "IFL-aPy2SfvG"
   },
   "outputs": [],
   "source": [
    "# Create a time log for the prediction by getting the last date\n",
    "\n",
    "last_date = dfreg.iloc[-1].name\n",
    "\n",
    "last_unix = last_date\n",
    "\n",
    "next_unix = last_unix + datetime.timedelta(days=1)\n",
    "\n",
    "# Populating forecast result\n",
    "for i in forecast_set:\n",
    "  next_date = next_unix\n",
    "  next_unix += datetime.timedelta(days=1)\n",
    "  dfreg.loc[next_date] = [np.nan for _ in range(len(dfreg.columns)-1)]+[i]"
   ]
  },
  {
   "cell_type": "markdown",
   "metadata": {
    "colab_type": "text",
    "id": "06xRIeUzSqe3"
   },
   "source": [
    "### Plotting the prediction"
   ]
  },
  {
   "cell_type": "code",
   "execution_count": 31,
   "metadata": {
    "colab": {
     "base_uri": "https://localhost:8080/",
     "height": 440
    },
    "colab_type": "code",
    "id": "2l44VkQrStby",
    "outputId": "822c8291-36d9-4afe-972a-6dc602861676"
   },
   "outputs": [
    {
     "data": {
      "image/png": "[encoded data removed]",
      "text/plain": [
       "<Figure size 576x504 with 1 Axes>"
      ]
     },
     "metadata": {},
     "output_type": "display_data"
    }
   ],
   "source": [
    "# plotting dfreg Adj Close & Forecast\n",
    "\n",
    "dfreg['Adj Close'].tail(300).plot()\n",
    "dfreg['Forecast'].tail(300).plot()\n",
    "plt.legend(loc=4)\n",
    "plt.xlabel('Date')\n",
    "plt.ylabel('Price')\n",
    "plt.show()"
   ]
  },
  {
   "cell_type": "code",
   "execution_count": 0,
   "metadata": {
    "colab": {},
    "colab_type": "code",
    "id": "F3N3oq_IUx5Q"
   },
   "outputs": [],
   "source": []
  }
 ],
 "metadata": {
  "colab": {
   "name": "Stock_Prediction_Regression_Models.ipynb",
   "provenance": [],
   "version": "0.3.2"
  },
  "kernelspec": {
   "display_name": "Python 3",
   "language": "python",
   "name": "python3"
  },
  "language_info": {
   "codemirror_mode": {
    "name": "ipython",
    "version": 3
   },
   "file_extension": ".py",
   "mimetype": "text/x-python",
   "name": "python",
   "nbconvert_exporter": "python",
   "pygments_lexer": "ipython3",
   "version": "3.6.8"
  }
 },
 "nbformat": 4,
 "nbformat_minor": 1
}
